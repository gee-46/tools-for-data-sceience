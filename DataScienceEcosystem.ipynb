{
 "cells": [
  {
   "cell_type": "markdown",
   "id": "ada7e16a-4e3d-466f-8779-488d9f4f1ad1",
   "metadata": {},
   "source": [
    "# Data Science Tools and Ecosystem\n"
   ]
  },
  {
   "cell_type": "markdown",
   "id": "566373f2-6143-43a7-8bb8-01b0e2f8f759",
   "metadata": {},
   "source": [
    "# Introduction\n",
    "\n",
    "In this notebook, **Data Science Tools and Ecosystem** are summarized.\n"
   ]
  },
  {
   "cell_type": "markdown",
   "id": "69f26a7e-fed6-4921-8967-4c48f683d9a0",
   "metadata": {},
   "source": [
    "### Popular Data Science Languages\n",
    "\n",
    "Some of the popular languages that Data Scientists use are:\n",
    "\n",
    "1. Python  \n",
    "2. R  \n",
    "3. SQL  \n",
    "4. Julia  \n",
    "5. Scala\n"
   ]
  },
  {
   "cell_type": "markdown",
   "id": "e9552cc3-717c-4630-9cda-12be41fcf3d1",
   "metadata": {},
   "source": [
    "### Commonly Used Data Science Libraries\n",
    "\n",
    "Some of the commonly used libraries used by Data Scientists include:\n",
    "\n",
    "1. Pandas  \n",
    "2. NumPy  \n",
    "3. Matplotlib  \n",
    "4. Seaborn  \n",
    "5. Scikit-learn  \n",
    "6. TensorFlow\n"
   ]
  },
  {
   "cell_type": "markdown",
   "id": "29803aa5-5a4f-46a9-9b2c-52912f796d91",
   "metadata": {},
   "source": [
    "### Data Science Tools Table\n",
    "\n",
    "| Data Science Tools         |\n",
    "|----------------------------|\n",
    "| Jupyter Notebook           |\n",
    "| RStudio                    |\n",
    "| Apache Zeppelin            |\n"
   ]
  },
  {
   "cell_type": "markdown",
   "id": "f4c9bfd6-d958-4850-9d02-8b3a96c09c6c",
   "metadata": {},
   "source": [
    "### Below are a few examples of evaluating arithmetic expressions in Python.\n"
   ]
  },
  {
   "cell_type": "markdown",
   "id": "4ff42d61-b4ad-420d-a902-e3b8664d3626",
   "metadata": {},
   "source": [
    "# This is a simple arithmetic expression to multiply then add integers\n",
    "(3 * 4) + 5\n"
   ]
  },
  {
   "cell_type": "markdown",
   "id": "cb151093-6824-462b-a521-132493b4f1fa",
   "metadata": {},
   "source": [
    "# This will convert 200 minutes to hours by dividing by 60\n",
    "200 / 60\n"
   ]
  },
  {
   "cell_type": "markdown",
   "id": "8c193104-04c7-46d1-ad7b-14fe3d99d924",
   "metadata": {},
   "source": [
    "**Objectives:**\n",
    "\n",
    "- List popular languages for Data Science  \n",
    "- Identify commonly used Data Science libraries  \n",
    "- Explore development environment tools used in Data Science  \n",
    "- Perform basic arithmetic operations using Python  \n",
    "- Convert time units using Python expressions\n"
   ]
  },
  {
   "cell_type": "markdown",
   "id": "225c4fbb-2c58-461e-85d6-ba1e051113b4",
   "metadata": {},
   "source": [
    "## Author\n",
    "\n",
    "Gautam N Chipkar\n"
   ]
  },
  {
   "cell_type": "code",
   "execution_count": null,
   "id": "ec741741-ad27-4666-8793-f60789d3cd00",
   "metadata": {},
   "outputs": [],
   "source": []
  }
 ],
 "metadata": {
  "kernelspec": {
   "display_name": "Python 3 (ipykernel)",
   "language": "python",
   "name": "python3"
  },
  "language_info": {
   "codemirror_mode": {
    "name": "ipython",
    "version": 3
   },
   "file_extension": ".py",
   "mimetype": "text/x-python",
   "name": "python",
   "nbconvert_exporter": "python",
   "pygments_lexer": "ipython3",
   "version": "3.12.7"
  }
 },
 "nbformat": 4,
 "nbformat_minor": 5
}
